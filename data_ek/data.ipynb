{
 "cells": [
  {
   "cell_type": "code",
   "execution_count": 8,
   "metadata": {},
   "outputs": [
    {
     "name": "stdout",
     "output_type": "stream",
     "text": [
      "✅ Saved merged data to ./xsumfaith.json (2500 entries)\n",
      "✅ Saved merged data to ./frank.json (2246 entries)\n",
      "✅ Saved merged data to ./cogensumm.json (1681 entries)\n",
      "✅ Saved merged data to ./factcc.json (1434 entries)\n"
     ]
    }
   ],
   "source": [
    "import os\n",
    "import pickle\n",
    "import json\n",
    "\n",
    "# 처리할 데이터셋 목록\n",
    "datasets = [\"xsumfaith\", \"frank\", \"cogensumm\", \"factcc\"]\n",
    "input_dir = \"./\"\n",
    "output_dir = \"./\"\n",
    "os.makedirs(output_dir, exist_ok=True)\n",
    "\n",
    "# cut은 파일 이름 기준으로 지정\n",
    "def load_and_tag(path, cut_name):\n",
    "    with open(path, \"rb\") as f:\n",
    "        data = pickle.load(f)\n",
    "    for entry in data:\n",
    "        entry[\"cut\"] = cut_name\n",
    "    return data\n",
    "\n",
    "# 필요한 필드만 추출하여 JSON 포맷 구성\n",
    "def to_json_format(entry, default_dataset):\n",
    "    return {\n",
    "        \"document\": entry[\"document\"],\n",
    "        \"claim\": entry[\"claim\"],\n",
    "        \"bbcid\": entry.get(\"bbcid\", None),\n",
    "        \"model_name\": entry.get(\"model_name\", None),\n",
    "        \"label\": entry[\"label\"],\n",
    "        \"cut\": entry[\"cut\"],\n",
    "        \"annotations\": entry.get(\"annotations\", []),\n",
    "        \"dataset\": entry.get(\"dataset\", default_dataset),\n",
    "        \"origin\": entry.get(\"origin\", \"xsum\")\n",
    "    }\n",
    "\n",
    "# 각 데이터셋 처리\n",
    "for dataset in datasets:\n",
    "    val_path = os.path.join(input_dir, f\"{dataset}_val.pkl\")\n",
    "    test_path = os.path.join(input_dir, f\"{dataset}_test.pkl\")\n",
    "    output_json_path = os.path.join(output_dir, f\"{dataset}.json\")\n",
    "\n",
    "    val_data = load_and_tag(val_path, \"val\")\n",
    "    test_data = load_and_tag(test_path, \"test\")\n",
    "    merged_data = val_data + test_data\n",
    "\n",
    "    final_data = [to_json_format(entry, dataset) for entry in merged_data]\n",
    "\n",
    "    with open(output_json_path, \"w\", encoding=\"utf-8\") as f:\n",
    "        json.dump(final_data, f, ensure_ascii=False, indent=4)\n",
    "\n",
    "    print(f\"✅ Saved merged data to {output_json_path} ({len(final_data)} entries)\")\n"
   ]
  }
 ],
 "metadata": {
  "kernelspec": {
   "display_name": "FIZZvenv",
   "language": "python",
   "name": "python3"
  },
  "language_info": {
   "codemirror_mode": {
    "name": "ipython",
    "version": 3
   },
   "file_extension": ".py",
   "mimetype": "text/x-python",
   "name": "python",
   "nbconvert_exporter": "python",
   "pygments_lexer": "ipython3",
   "version": "3.10.14"
  }
 },
 "nbformat": 4,
 "nbformat_minor": 2
}
